{
 "cells": [
  {
   "cell_type": "markdown",
   "id": "polar-update",
   "metadata": {},
   "source": [
    "## Exercise 15.10"
   ]
  },
  {
   "cell_type": "code",
   "execution_count": null,
   "id": "supreme-insertion",
   "metadata": {},
   "outputs": [],
   "source": [
    "import networkx as nx\n",
    "\n",
    "hycb_graph = networkx.hypercube_graph(4)\n",
    "nx.draw(hycb_graph)"
   ]
  },
  {
   "cell_type": "code",
   "execution_count": 1,
   "id": "civil-malta",
   "metadata": {},
   "outputs": [
    {
     "name": "stderr",
     "output_type": "stream",
     "text": [
      "Exception in Tkinter callback\n",
      "Traceback (most recent call last):\n",
      "  File \"/Users/Munchic/.pyenv/versions/3.8.1/lib/python3.8/tkinter/__init__.py\", line 1883, in __call__\n",
      "    return self.func(*args)\n",
      "  File \"/Users/Munchic/.pyenv/versions/3.8.1/lib/python3.8/tkinter/__init__.py\", line 804, in callit\n",
      "    func(*args)\n",
      "  File \"/Users/Munchic/Desktop/Systems Biology/pycxsimulator.py\", line 233, in stepModel\n",
      "    self.status.configure(foreground='black')\n",
      "  File \"/Users/Munchic/.pyenv/versions/3.8.1/lib/python3.8/tkinter/__init__.py\", line 1637, in configure\n",
      "    return self._configure('configure', cnf, kw)\n",
      "  File \"/Users/Munchic/.pyenv/versions/3.8.1/lib/python3.8/tkinter/__init__.py\", line 1627, in _configure\n",
      "    self.tk.call(_flatten((self._w, cmd)) + self._options(cnf))\n",
      "_tkinter.TclError: invalid command name \".!label\"\n"
     ]
    }
   ],
   "source": [
    "import matplotlib\n",
    "matplotlib.use(\"TkAgg\")\n",
    "from pylab import *\n",
    "n = 100 # size of space: n x n\n",
    "p = 0.1 # probability of initially panicky individuals\n",
    "\n",
    "def initialize():\n",
    "    global config, nextconfig\n",
    "    config = zeros([n, n])\n",
    "    for x in range(n):\n",
    "        for y in range(n):\n",
    "            if random() < p:\n",
    "                config[x, y] = 1 \n",
    "            else:\n",
    "                config[x, y] = 0\n",
    "    nextconfig = zeros([n, n])\n",
    "def observe():\n",
    "    global config, nextconfig\n",
    "    cla()\n",
    "    imshow(config, vmin = 0, vmax = 1, cmap = cm.binary)\n",
    "def update():\n",
    "    global config, nextconfig\n",
    "    for x in range(n):\n",
    "        for y in range(n):\n",
    "            count = 0\n",
    "            for dx in [-1, 0, 1]:\n",
    "                for dy in [-1, 0, 1]:\n",
    "                    count += config[(x + dx) % n, (y + dy) % n]\n",
    "            if count >= 4:\n",
    "                nextconfig[x, y] = 1 \n",
    "            else:\n",
    "                nextconfig[x, y] = 0\n",
    "    config, nextconfig = nextconfig, config\n",
    "import pycxsimulator\n",
    "pycxsimulator.GUI().start(func=[initialize, observe, update])"
   ]
  },
  {
   "cell_type": "code",
   "execution_count": null,
   "id": "plain-carry",
   "metadata": {},
   "outputs": [],
   "source": []
  }
 ],
 "metadata": {
  "kernelspec": {
   "display_name": "Python 3.6.5 64-bit ('CS166': pipenv)",
   "language": "python",
   "name": "python36564bitcs166pipenv4d18d087d07c40f29b190cd12084da9e"
  },
  "language_info": {
   "codemirror_mode": {
    "name": "ipython",
    "version": 3
   },
   "file_extension": ".py",
   "mimetype": "text/x-python",
   "name": "python",
   "nbconvert_exporter": "python",
   "pygments_lexer": "ipython3",
   "version": "3.6.5"
  }
 },
 "nbformat": 4,
 "nbformat_minor": 5
}
