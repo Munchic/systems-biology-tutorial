{
 "cells": [
  {
   "cell_type": "markdown",
   "metadata": {},
   "source": [
    "# Starter Codes for Statistics Problem Set\n",
    "Look out for `### TODO` comments. Those require you to fill out the code for everything to run successfully :)"
   ]
  },
  {
   "cell_type": "code",
   "execution_count": null,
   "metadata": {},
   "outputs": [],
   "source": [
    "import numpy as np\n",
    "import matplotlib.pyplot as plt\n",
    "import copy\n",
    "\n",
    "import scipy as sp\n",
    "import scipy.stats as sts\n",
    "from scipy.optimize import minimize\n",
    "from scipy.special import factorial"
   ]
  },
  {
   "cell_type": "markdown",
   "metadata": {},
   "source": [
    "## Part 2B\n",
    "### Question 1"
   ]
  },
  {
   "cell_type": "code",
   "execution_count": null,
   "metadata": {},
   "outputs": [],
   "source": [
    "### TODO: insert dataset here\n",
    "data = ...\n",
    "\n",
    "### TODO: find mean and variance\n",
    "print(...)\n",
    "print(...)"
   ]
  },
  {
   "cell_type": "markdown",
   "metadata": {},
   "source": [
    "### Question 2"
   ]
  },
  {
   "cell_type": "code",
   "execution_count": null,
   "metadata": {},
   "outputs": [],
   "source": [
    "# source: https://stackoverflow.com/a/25828558\n",
    "\n",
    "def poisson(k, lamb):\n",
    "    return (lamb**k/factorial(k)) * np.exp(-lamb)\n",
    "\n",
    "\n",
    "def negative_log_likelihood(params, data):\n",
    "    return -np.sum(np.log(poisson(data, params[0])))\n",
    "\n",
    "def negative_log_likelihood(params, data):\n",
    "    return -sts.poisson.logpmf(data, params[0]).sum()"
   ]
  },
  {
   "cell_type": "code",
   "execution_count": null,
   "metadata": {},
   "outputs": [],
   "source": [
    "# source: https://stackoverflow.com/a/25828558\n",
    "\n",
    "# MLE: minimize the negative log-likelihood\n",
    "result = minimize(negative_log_likelihood,  # function to minimize\n",
    "                  x0=np.ones(1),            # start value\n",
    "                  args=(data,),             # additional arguments for function\n",
    "                  method='Powell',          # minimization method, see docs\n",
    "                  )\n",
    "\n",
    "# index for x-axis, number of moldy spots \n",
    "k = np.arange(0, 12)\n",
    "\n",
    "# get the density values for each x\n",
    "prior = sts.poisson.pmf(k, *result.x)\n",
    "\n",
    "plt.scatter(k, prior,label='prior')\n",
    "plt.legend()\n",
    "plt.show()"
   ]
  },
  {
   "cell_type": "markdown",
   "metadata": {},
   "source": [
    "## Part 2C\n",
    "### Question 1"
   ]
  },
  {
   "cell_type": "code",
   "execution_count": null,
   "metadata": {},
   "outputs": [],
   "source": [
    "### TODO: new observations and combined list here\n",
    "new_data = ...\n",
    "all_data = ...  # consider list concatenation :)"
   ]
  },
  {
   "cell_type": "code",
   "execution_count": null,
   "metadata": {},
   "outputs": [],
   "source": [
    "### TODO: print out mean and variance of all the data\n",
    "print(...)\n",
    "print(...)"
   ]
  },
  {
   "cell_type": "markdown",
   "metadata": {},
   "source": [
    "### Question 2\n",
    "For the likelihood, we pick something with positive support, such as a truncated normal distribution since we cannot have negative number of mold spot counts."
   ]
  },
  {
   "cell_type": "code",
   "execution_count": null,
   "metadata": {},
   "outputs": [],
   "source": [
    "lower_limit = 0\n",
    "upper_limit = np.inf\n",
    "sigma = 1  # std for likelihood\n",
    "\n",
    "def likelihood(datum):\n",
    "    likelihood_dist = sts.truncnorm.pdf(\n",
    "        datum,\n",
    "        (lower_limit - k) / sigma,\n",
    "        (upper_limit - k) / sigma,\n",
    "        loc=k,\n",
    "        scale=sigma\n",
    "    )\n",
    "\n",
    "    return likelihood_dist\n",
    "\n",
    "plt.scatter(k, likelihood(3))  # example likelihood of a datapoint k = 3\n",
    "plt.show()"
   ]
  },
  {
   "cell_type": "markdown",
   "metadata": {},
   "source": [
    "Reminder about Bayesian update rule:\n",
    "\n",
    "$P(\\theta|X) = \\dfrac{P(X|\\theta)P(\\theta)}{P(X)}$,\n",
    "\n",
    "where:\n",
    "- $\\theta$ is the distribution parameter\n",
    "- $X$ is the observation\n",
    "- $P(\\theta|X)$ is the posterior distribution (PDF)\n",
    "- $P(\\theta)$ is the prior distribution (PDF)\n",
    "- $P(X|\\theta)$ is the likelihood distribution (not a PDF)\n",
    "- $P(X)$ is the evidence (we don't need this as we will just divide by the area under PDF curve)"
   ]
  },
  {
   "cell_type": "code",
   "execution_count": null,
   "metadata": {},
   "outputs": [],
   "source": [
    "unnormalized_posterior = copy.deepcopy(prior)\n",
    "\n",
    "for datum in new_data:\n",
    "    lklhd = likelihood(datum)\n",
    "    \n",
    "    ### TODO: what is the posterior? (hint: you can forget about P(X) for now)\n",
    "    unnormalized_posterior *= ...\n",
    "    \n",
    "# normalize the posterior so that area under this new PDF adds up to 1\n",
    "area = sp.integrate.trapz(unnormalized_posterior, k) + 1e-10000\n",
    "posterior = unnormalized_posterior / area"
   ]
  },
  {
   "cell_type": "code",
   "execution_count": null,
   "metadata": {},
   "outputs": [],
   "source": [
    "# comparing posterior to the prior\n",
    "plt.scatter(k, prior, label=\"prior\")\n",
    "plt.plot(k, posterior, label=\"posterior\", color=\"orange\")\n",
    "plt.legend()\n",
    "plt.show()"
   ]
  },
  {
   "cell_type": "code",
   "execution_count": null,
   "metadata": {},
   "outputs": [],
   "source": [
    "### TODO: recover the estimated mean of the number of moldy spots from the posterior\n",
    "# HINT: probability density is a weighting of each data point in the discrete distribution (such as ours)\n",
    "mean = ...  # expression containing `k` and `posterior` "
   ]
  }
 ],
 "metadata": {
  "kernelspec": {
   "display_name": "Python 3",
   "language": "python",
   "name": "python3"
  },
  "language_info": {
   "codemirror_mode": {
    "name": "ipython",
    "version": 3
   },
   "file_extension": ".py",
   "mimetype": "text/x-python",
   "name": "python",
   "nbconvert_exporter": "python",
   "pygments_lexer": "ipython3",
   "version": "3.6.5"
  }
 },
 "nbformat": 4,
 "nbformat_minor": 4
}
